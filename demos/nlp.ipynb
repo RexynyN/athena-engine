{
 "cells": [
  {
   "cell_type": "code",
   "execution_count": 2,
   "metadata": {},
   "outputs": [],
   "source": [
    "class Category:\n",
    "    BOOKS = \"BOOKS\"\n",
    "    CLOTHING = \"CLOTHING\"\n",
    "\n",
    "train_x = [\"Eu amo o livro\", \"Este é um ótimo livro\", \"Serve certinho\", \"Eu adorei os sapatos\"]\n",
    "train_y = [Category.BOOKS, Category.BOOKS, Category.CLOTHING, Category.CLOTHING]"
   ]
  },
  {
   "cell_type": "code",
   "execution_count": 3,
   "metadata": {},
   "outputs": [
    {
     "name": "stdout",
     "output_type": "stream",
     "text": [
      "['adorei' 'amo' 'certinho' 'este' 'eu' 'livro' 'os' 'sapatos' 'serve' 'um'\n",
      " 'ótimo']\n",
      "[[0 1 0 0 1 1 0 0 0 0 0]\n",
      " [0 0 0 1 0 1 0 0 0 1 1]\n",
      " [0 0 1 0 0 0 0 0 1 0 0]\n",
      " [1 0 0 0 1 0 1 1 0 0 0]]\n"
     ]
    }
   ],
   "source": [
    "from sklearn.feature_extraction.text import CountVectorizer\n",
    "\n",
    "vectorizer = CountVectorizer(binary=True)\n",
    "train_x_vectors = vectorizer.fit_transform(train_x)\n",
    "\n",
    "print(vectorizer.get_feature_names_out())\n",
    "print(train_x_vectors.toarray())"
   ]
  },
  {
   "cell_type": "code",
   "execution_count": 4,
   "metadata": {},
   "outputs": [
    {
     "data": {
      "text/html": [
       "<style>#sk-container-id-1 {color: black;}#sk-container-id-1 pre{padding: 0;}#sk-container-id-1 div.sk-toggleable {background-color: white;}#sk-container-id-1 label.sk-toggleable__label {cursor: pointer;display: block;width: 100%;margin-bottom: 0;padding: 0.3em;box-sizing: border-box;text-align: center;}#sk-container-id-1 label.sk-toggleable__label-arrow:before {content: \"▸\";float: left;margin-right: 0.25em;color: #696969;}#sk-container-id-1 label.sk-toggleable__label-arrow:hover:before {color: black;}#sk-container-id-1 div.sk-estimator:hover label.sk-toggleable__label-arrow:before {color: black;}#sk-container-id-1 div.sk-toggleable__content {max-height: 0;max-width: 0;overflow: hidden;text-align: left;background-color: #f0f8ff;}#sk-container-id-1 div.sk-toggleable__content pre {margin: 0.2em;color: black;border-radius: 0.25em;background-color: #f0f8ff;}#sk-container-id-1 input.sk-toggleable__control:checked~div.sk-toggleable__content {max-height: 200px;max-width: 100%;overflow: auto;}#sk-container-id-1 input.sk-toggleable__control:checked~label.sk-toggleable__label-arrow:before {content: \"▾\";}#sk-container-id-1 div.sk-estimator input.sk-toggleable__control:checked~label.sk-toggleable__label {background-color: #d4ebff;}#sk-container-id-1 div.sk-label input.sk-toggleable__control:checked~label.sk-toggleable__label {background-color: #d4ebff;}#sk-container-id-1 input.sk-hidden--visually {border: 0;clip: rect(1px 1px 1px 1px);clip: rect(1px, 1px, 1px, 1px);height: 1px;margin: -1px;overflow: hidden;padding: 0;position: absolute;width: 1px;}#sk-container-id-1 div.sk-estimator {font-family: monospace;background-color: #f0f8ff;border: 1px dotted black;border-radius: 0.25em;box-sizing: border-box;margin-bottom: 0.5em;}#sk-container-id-1 div.sk-estimator:hover {background-color: #d4ebff;}#sk-container-id-1 div.sk-parallel-item::after {content: \"\";width: 100%;border-bottom: 1px solid gray;flex-grow: 1;}#sk-container-id-1 div.sk-label:hover label.sk-toggleable__label {background-color: #d4ebff;}#sk-container-id-1 div.sk-serial::before {content: \"\";position: absolute;border-left: 1px solid gray;box-sizing: border-box;top: 0;bottom: 0;left: 50%;z-index: 0;}#sk-container-id-1 div.sk-serial {display: flex;flex-direction: column;align-items: center;background-color: white;padding-right: 0.2em;padding-left: 0.2em;position: relative;}#sk-container-id-1 div.sk-item {position: relative;z-index: 1;}#sk-container-id-1 div.sk-parallel {display: flex;align-items: stretch;justify-content: center;background-color: white;position: relative;}#sk-container-id-1 div.sk-item::before, #sk-container-id-1 div.sk-parallel-item::before {content: \"\";position: absolute;border-left: 1px solid gray;box-sizing: border-box;top: 0;bottom: 0;left: 50%;z-index: -1;}#sk-container-id-1 div.sk-parallel-item {display: flex;flex-direction: column;z-index: 1;position: relative;background-color: white;}#sk-container-id-1 div.sk-parallel-item:first-child::after {align-self: flex-end;width: 50%;}#sk-container-id-1 div.sk-parallel-item:last-child::after {align-self: flex-start;width: 50%;}#sk-container-id-1 div.sk-parallel-item:only-child::after {width: 0;}#sk-container-id-1 div.sk-dashed-wrapped {border: 1px dashed gray;margin: 0 0.4em 0.5em 0.4em;box-sizing: border-box;padding-bottom: 0.4em;background-color: white;}#sk-container-id-1 div.sk-label label {font-family: monospace;font-weight: bold;display: inline-block;line-height: 1.2em;}#sk-container-id-1 div.sk-label-container {text-align: center;}#sk-container-id-1 div.sk-container {/* jupyter's `normalize.less` sets `[hidden] { display: none; }` but bootstrap.min.css set `[hidden] { display: none !important; }` so we also need the `!important` here to be able to override the default hidden behavior on the sphinx rendered scikit-learn.org. See: https://github.com/scikit-learn/scikit-learn/issues/21755 */display: inline-block !important;position: relative;}#sk-container-id-1 div.sk-text-repr-fallback {display: none;}</style><div id=\"sk-container-id-1\" class=\"sk-top-container\"><div class=\"sk-text-repr-fallback\"><pre>SVC(kernel=&#x27;linear&#x27;)</pre><b>In a Jupyter environment, please rerun this cell to show the HTML representation or trust the notebook. <br />On GitHub, the HTML representation is unable to render, please try loading this page with nbviewer.org.</b></div><div class=\"sk-container\" hidden><div class=\"sk-item\"><div class=\"sk-estimator sk-toggleable\"><input class=\"sk-toggleable__control sk-hidden--visually\" id=\"sk-estimator-id-1\" type=\"checkbox\" checked><label for=\"sk-estimator-id-1\" class=\"sk-toggleable__label sk-toggleable__label-arrow\">SVC</label><div class=\"sk-toggleable__content\"><pre>SVC(kernel=&#x27;linear&#x27;)</pre></div></div></div></div></div>"
      ],
      "text/plain": [
       "SVC(kernel='linear')"
      ]
     },
     "execution_count": 4,
     "metadata": {},
     "output_type": "execute_result"
    }
   ],
   "source": [
    "from sklearn import svm\n",
    "\n",
    "clf_svm = svm.SVC(kernel=\"linear\")\n",
    "clf_svm.fit(train_x_vectors, train_y)"
   ]
  },
  {
   "cell_type": "code",
   "execution_count": 5,
   "metadata": {},
   "outputs": [
    {
     "data": {
      "text/plain": [
       "array(['BOOKS'], dtype='<U8')"
      ]
     },
     "execution_count": 5,
     "metadata": {},
     "output_type": "execute_result"
    }
   ],
   "source": [
    "test_x = vectorizer.transform([\"Eu adoro o livro\"])\n",
    "\n",
    "clf_svm.predict(test_x)"
   ]
  },
  {
   "cell_type": "code",
   "execution_count": 6,
   "metadata": {},
   "outputs": [
    {
     "name": "stderr",
     "output_type": "stream",
     "text": [
      "[nltk_data] Downloading package punkt to /home/breno/nltk_data...\n",
      "[nltk_data]   Package punkt is already up-to-date!\n",
      "[nltk_data] Downloading package averaged_perceptron_tagger to\n",
      "[nltk_data]     /home/breno/nltk_data...\n",
      "[nltk_data]   Package averaged_perceptron_tagger is already up-to-\n",
      "[nltk_data]       date!\n"
     ]
    },
    {
     "data": {
      "text/plain": [
       "['As',\n",
       " 'águas',\n",
       " 'do',\n",
       " 'Rio',\n",
       " 'Acre',\n",
       " 'continuam',\n",
       " 'em',\n",
       " 'baixa',\n",
       " 'e',\n",
       " 'o',\n",
       " 'nível',\n",
       " 'marcou',\n",
       " '1,55',\n",
       " 'metro',\n",
       " 'nesta',\n",
       " 'terça-feira',\n",
       " '(',\n",
       " '14',\n",
       " ')',\n",
       " 'em',\n",
       " 'Rio',\n",
       " 'Branco',\n",
       " '.',\n",
       " 'Segundo',\n",
       " 'a',\n",
       " 'Defesa',\n",
       " 'Civil',\n",
       " 'Municipal',\n",
       " ',',\n",
       " 'essa',\n",
       " 'é',\n",
       " 'a',\n",
       " 'pior',\n",
       " 'cota',\n",
       " 'dos',\n",
       " 'últimos',\n",
       " '9',\n",
       " 'anos',\n",
       " 'para',\n",
       " 'o',\n",
       " 'dia',\n",
       " '14',\n",
       " 'de',\n",
       " 'novembro',\n",
       " '.',\n",
       " 'O',\n",
       " 'manancial',\n",
       " 'baixou',\n",
       " '36',\n",
       " 'centímetros',\n",
       " 'em',\n",
       " 'dois',\n",
       " 'dias',\n",
       " 'em',\n",
       " 'Rio',\n",
       " 'Branco',\n",
       " ',',\n",
       " 'de',\n",
       " 'acordo',\n",
       " 'com',\n",
       " 'relatório',\n",
       " 'da',\n",
       " 'Defesa',\n",
       " 'Civil',\n",
       " '.',\n",
       " 'O',\n",
       " 'nível',\n",
       " 'desta',\n",
       " 'terça',\n",
       " 'está',\n",
       " 'a',\n",
       " '30',\n",
       " 'centímetros',\n",
       " 'da',\n",
       " 'menor',\n",
       " 'cota',\n",
       " 'histórica',\n",
       " ',',\n",
       " 'registrada',\n",
       " 'em',\n",
       " '2',\n",
       " 'de',\n",
       " 'outubro',\n",
       " 'de',\n",
       " '2022',\n",
       " ',',\n",
       " 'que',\n",
       " 'foi',\n",
       " 'de',\n",
       " '1,25',\n",
       " 'metro',\n",
       " '.',\n",
       " 'Na',\n",
       " 'semana',\n",
       " 'passada',\n",
       " ',',\n",
       " 'o',\n",
       " 'rio',\n",
       " 'chegou',\n",
       " 'a',\n",
       " 'ficar',\n",
       " 'três',\n",
       " 'dias',\n",
       " 'acima',\n",
       " 'de',\n",
       " '2',\n",
       " 'metros',\n",
       " ',',\n",
       " 'mas',\n",
       " 'o',\n",
       " 'cenário',\n",
       " 'mudou',\n",
       " 'ainda',\n",
       " 'na',\n",
       " 'sexta-feira',\n",
       " '(',\n",
       " '10',\n",
       " ')',\n",
       " '.']"
      ]
     },
     "execution_count": 6,
     "metadata": {},
     "output_type": "execute_result"
    }
   ],
   "source": [
    "import nltk    \n",
    "from nltk import tokenize    \n",
    "nltk.download('punkt')\n",
    "nltk.download('averaged_perceptron_tagger')\n",
    "\n",
    "text = \"\"\"\n",
    "As águas do Rio Acre continuam em baixa e o nível marcou 1,55 metro nesta terça-feira (14) em Rio Branco. Segundo a Defesa Civil Municipal, essa é a pior cota dos últimos 9 anos para o dia 14 de novembro. O manancial baixou 36 centímetros em dois dias em Rio Branco, de acordo com relatório da Defesa Civil. O nível desta terça está a 30 centímetros da menor cota histórica, registrada em 2 de outubro de 2022, que foi de 1,25 metro. Na semana passada, o rio chegou a ficar três dias acima de 2 metros, mas o cenário mudou ainda na sexta-feira (10).\n",
    "\"\"\"\n",
    "\n",
    "\n",
    "words = tokenize.word_tokenize(text, language='portuguese')   \n",
    "words"
   ]
  },
  {
   "cell_type": "code",
   "execution_count": 7,
   "metadata": {},
   "outputs": [],
   "source": [
    "table = {\n",
    "\"CC\":\t\"coordinating conjunction\",\n",
    "\"CD\":\t\"cardinal digit\",\n",
    "\"DT\":\t\"determiner\",\n",
    "\"EX\":\t\"existential there\",\n",
    "\"FW\":\t\"foreign word\",\n",
    "\"IN\":\t\"preposition/subordinating conjunction\",\n",
    "\"JJ\":\t\"This NLTK POS Tag is an adjective (large)\",\n",
    "\"JJR\":\t\"adjective, comparative (larger)\",\n",
    "\"JJS\":\t\"adjective, superlative (largest)\",\n",
    "\"LS\":\t\"list market\",\n",
    "\"MD\":\t\"modal (could, will)\",\n",
    "\"NN\":\t\"noun, singular (cat, tree)\",\n",
    "\"NNS\":\t\"noun plural (desks)\",\n",
    "\"NNP\":\t\"proper noun, singular (sarah)\",\n",
    "\"NNPS\":\t\"proper noun, plural (indians or americans)\",\n",
    "\"PDT\":\t\"predeterminer (all, both, half)\",\n",
    "\"POS\":\t\"possessive ending (parent's)\",\n",
    "\"PRP\":\t\"personal pronoun (hers, herself, him, himself)\",\n",
    "\"PRP\":\t\"possessive pronoun (her, his, mine, my, our )\",\n",
    "\"RB\":\t\"adverb (occasionally, swiftly)\",\n",
    "\"RBR\":\t\"adverb, comparative (greater)\",\n",
    "\"RBS\":\t\"adverb, superlative (biggest)\",\n",
    "\"RP\":\t\"particle (about)\",\n",
    "\"TO\":\t\"infinite marker (to)\",\n",
    "\"UH\":\t\"interjection (goodbye)\",\n",
    "\"VB\":\t\"verb (ask)\",\n",
    "\"VBG\":\t\"verb gerund (judging)\",\n",
    "\"VBD\":\t\"verb past tense (pleaded)\",\n",
    "\"VBN\":\t\"verb past participle (reunified)\",\n",
    "\"VBP\":\t\"verb, present tense not 3rd person singular(wrap)\",\n",
    "\"VBZ\":\t\"verb, present tense with 3rd person singular (bases)\",\n",
    "\"WDT\":\t\"wh-determiner (that, what)\",\n",
    "\"WP\":\t\"wh- pronoun (who)\",\n",
    "\"WRB\":\t\"wh- adverb (how)\",\n",
    "}"
   ]
  },
  {
   "cell_type": "code",
   "execution_count": 9,
   "metadata": {},
   "outputs": [
    {
     "name": "stdout",
     "output_type": "stream",
     "text": [
      "['As', 'águas', 'do', 'Rio', 'Acre']\n",
      "[('As', 'IN'), ('águas', 'NNS'), ('do', 'VBP'), ('Rio', 'NNP'), ('Acre', 'NNP')]\n"
     ]
    }
   ],
   "source": [
    "tagged_words = nltk.pos_tag(words)\n",
    "\n",
    "word_tags = []\n",
    "\n",
    "for tw in tagged_words:\n",
    "    word_tags.append(tw[0] + \"_\" + tw[1])\n",
    "                     \n",
    "tagged_paragraph = ' '.join(word_tags)\n",
    "\n",
    "print(words[:5])\n",
    "print(tagged_words[:5])"
   ]
  }
 ],
 "metadata": {
  "kernelspec": {
   "display_name": "Python 3",
   "language": "python",
   "name": "python3"
  },
  "language_info": {
   "codemirror_mode": {
    "name": "ipython",
    "version": 3
   },
   "file_extension": ".py",
   "mimetype": "text/x-python",
   "name": "python",
   "nbconvert_exporter": "python",
   "pygments_lexer": "ipython3",
   "version": "3.10.12"
  }
 },
 "nbformat": 4,
 "nbformat_minor": 2
}
