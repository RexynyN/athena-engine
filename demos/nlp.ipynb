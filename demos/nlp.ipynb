{
 "cells": [
  {
   "cell_type": "code",
   "execution_count": 7,
   "metadata": {},
   "outputs": [
    {
     "name": "stderr",
     "output_type": "stream",
     "text": [
      "[nltk_data] Downloading package punkt to /home/breno/nltk_data...\n",
      "[nltk_data]   Package punkt is already up-to-date!\n",
      "[nltk_data] Downloading package averaged_perceptron_tagger to\n",
      "[nltk_data]     /home/breno/nltk_data...\n",
      "[nltk_data]   Package averaged_perceptron_tagger is already up-to-\n",
      "[nltk_data]       date!\n"
     ]
    },
    {
     "data": {
      "text/plain": [
       "['Outra',\n",
       " 'maneira',\n",
       " 'de',\n",
       " 'generalizar',\n",
       " 'a',\n",
       " 'partir',\n",
       " 'de',\n",
       " 'um',\n",
       " 'conjunto',\n",
       " 'de',\n",
       " 'exemplos',\n",
       " 'seria',\n",
       " 'construir',\n",
       " 'um',\n",
       " 'modelo',\n",
       " 'desses',\n",
       " 'exemplos',\n",
       " 'e',\n",
       " 'utilizar',\n",
       " 'esse',\n",
       " 'modelo',\n",
       " 'para',\n",
       " 'fazer',\n",
       " 'previsões',\n",
       " '.',\n",
       " 'Isso',\n",
       " 'é',\n",
       " 'chamado',\n",
       " 'de',\n",
       " 'aprendizado',\n",
       " 'baseado',\n",
       " 'em',\n",
       " 'modelo',\n",
       " '(',\n",
       " 'Figura',\n",
       " '1-16',\n",
       " ')',\n",
       " '.']"
      ]
     },
     "execution_count": 7,
     "metadata": {},
     "output_type": "execute_result"
    }
   ],
   "source": [
    "import nltk    \n",
    "from nltk import tokenize    \n",
    "\n",
    "nltk.download('punkt')\n",
    "nltk.download('averaged_perceptron_tagger')\n",
    "\n",
    "text = \"\"\"\n",
    "Outra maneira de generalizar a partir de um conjunto de exemplos seria construir um\n",
    "modelo desses exemplos e utilizar esse modelo para fazer previsões. Isso é chamado de\n",
    "aprendizado baseado em modelo (Figura 1-16).\"\"\"\n",
    "\n",
    "\n",
    "words = tokenize.word_tokenize(text, language='portuguese')   \n",
    "words"
   ]
  },
  {
   "cell_type": "code",
   "execution_count": 8,
   "metadata": {},
   "outputs": [],
   "source": [
    "table = {\n",
    "    \"CC\":\t\"coordinating conjunction\",\n",
    "    \"CD\":\t\"cardinal digit\",\n",
    "    \"DT\":\t\"determiner\",\n",
    "    \"EX\":\t\"existential there\",\n",
    "    \"FW\":\t\"foreign word\",\n",
    "    \"IN\":\t\"preposition/subordinating conjunction\",\n",
    "    \"JJ\":\t\"This NLTK POS Tag is an adjective (large)\",\n",
    "    \"JJR\":\t\"adjective, comparative (larger)\",\n",
    "    \"JJS\":\t\"adjective, superlative (largest)\",\n",
    "    \"LS\":\t\"list market\",\n",
    "    \"MD\":\t\"modal (could, will)\",\n",
    "    \"NN\":\t\"noun, singular (cat, tree)\",\n",
    "    \"NNS\":\t\"noun plural (desks)\",\n",
    "    \"NNP\":\t\"proper noun, singular (sarah)\",\n",
    "    \"NNPS\":\t\"proper noun, plural (indians or americans)\",\n",
    "    \"PDT\":\t\"predeterminer (all, both, half)\",\n",
    "    \"POS\":\t\"possessive ending (parent's)\",\n",
    "    \"PRP\":\t\"personal pronoun (hers, herself, him, himself)\",\n",
    "    \"PRP\":\t\"possessive pronoun (her, his, mine, my, our )\",\n",
    "    \"RB\":\t\"adverb (occasionally, swiftly)\",\n",
    "    \"RBR\":\t\"adverb, comparative (greater)\",\n",
    "    \"RBS\":\t\"adverb, superlative (biggest)\",\n",
    "    \"RP\":\t\"particle (about)\",\n",
    "    \"TO\":\t\"infinite marker (to)\",\n",
    "    \"UH\":\t\"interjection (goodbye)\",\n",
    "    \"VB\":\t\"verb (ask)\",\n",
    "    \"VBG\":\t\"verb gerund (judging)\",\n",
    "    \"VBD\":\t\"verb past tense (pleaded)\",\n",
    "    \"VBN\":\t\"verb past participle (reunified)\",\n",
    "    \"VBP\":\t\"verb, present tense not 3rd person singular(wrap)\",\n",
    "    \"VBZ\":\t\"verb, present tense with 3rd person singular (bases)\",\n",
    "    \"WDT\":\t\"wh-determiner (that, what)\",\n",
    "    \"WP\":\t\"wh- pronoun (who)\",\n",
    "    \"WRB\":\t\"wh- adverb (how)\",\n",
    "}"
   ]
  },
  {
   "cell_type": "code",
   "execution_count": 9,
   "metadata": {},
   "outputs": [
    {
     "data": {
      "text/plain": [
       "[('Outra', 'NNP'),\n",
       " ('maneira', 'NN'),\n",
       " ('de', 'FW'),\n",
       " ('generalizar', 'FW'),\n",
       " ('a', 'DT'),\n",
       " ('partir', 'NN'),\n",
       " ('de', 'IN'),\n",
       " ('um', 'JJ'),\n",
       " ('conjunto', 'NN'),\n",
       " ('de', 'IN'),\n",
       " ('exemplos', 'FW'),\n",
       " ('seria', 'NNS'),\n",
       " ('construir', 'VBP'),\n",
       " ('um', 'JJ'),\n",
       " ('modelo', 'NN'),\n",
       " ('desses', 'VBZ'),\n",
       " ('exemplos', 'JJ'),\n",
       " ('e', 'NN'),\n",
       " ('utilizar', 'JJ'),\n",
       " ('esse', 'NN'),\n",
       " ('modelo', 'NN'),\n",
       " ('para', 'NN'),\n",
       " ('fazer', 'NN'),\n",
       " ('previsões', 'NN'),\n",
       " ('.', '.'),\n",
       " ('Isso', 'NNP'),\n",
       " ('é', 'NNP'),\n",
       " ('chamado', 'NN'),\n",
       " ('de', 'FW'),\n",
       " ('aprendizado', 'FW'),\n",
       " ('baseado', 'FW'),\n",
       " ('em', 'FW'),\n",
       " ('modelo', 'FW'),\n",
       " ('(', '('),\n",
       " ('Figura', 'NNP'),\n",
       " ('1-16', 'CD'),\n",
       " (')', ')'),\n",
       " ('.', '.')]"
      ]
     },
     "execution_count": 9,
     "metadata": {},
     "output_type": "execute_result"
    }
   ],
   "source": [
    "tagged_words = nltk.pos_tag(words)\n",
    "\n",
    "word_tags = []\n",
    "\n",
    "for tw in tagged_words:\n",
    "    word_tags.append(tw[0] + \"_\" + tw[1])\n",
    "                     \n",
    "tagged_paragraph = ' '.join(word_tags)\n",
    "\n",
    "# print(words[:5])\n",
    "# print(tagged_words[:5])\n",
    "\n",
    "tagged_words"
   ]
  },
  {
   "cell_type": "code",
   "execution_count": null,
   "metadata": {},
   "outputs": [],
   "source": []
  }
 ],
 "metadata": {
  "kernelspec": {
   "display_name": "Python 3",
   "language": "python",
   "name": "python3"
  },
  "language_info": {
   "codemirror_mode": {
    "name": "ipython",
    "version": 3
   },
   "file_extension": ".py",
   "mimetype": "text/x-python",
   "name": "python",
   "nbconvert_exporter": "python",
   "pygments_lexer": "ipython3",
   "version": "3.10.12"
  }
 },
 "nbformat": 4,
 "nbformat_minor": 2
}
