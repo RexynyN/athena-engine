{
 "cells": [
  {
   "cell_type": "code",
   "execution_count": 10,
   "metadata": {},
   "outputs": [],
   "source": [
    "table = {\n",
    "    \"CC\":\t\"coordinating conjunction\",\n",
    "    \"CD\":\t\"cardinal digit\",\n",
    "    \"DT\":\t\"determiner\",\n",
    "    \"EX\":\t\"existential there\",\n",
    "    \"FW\":\t\"foreign word\",\n",
    "    \"IN\":\t\"preposition/subordinating conjunction\",\n",
    "    \"JJ\":\t\"This NLTK POS Tag is an adjective (large)\",\n",
    "    \"JJR\":\t\"adjective, comparative (larger)\",\n",
    "    \"JJS\":\t\"adjective, superlative (largest)\",\n",
    "    \"LS\":\t\"list market\",\n",
    "    \"MD\":\t\"modal (could, will)\",\n",
    "    \"NN\":\t\"noun, singular (cat, tree)\",\n",
    "    \"NNS\":\t\"noun plural (desks)\",\n",
    "    \"NNP\":\t\"proper noun, singular (sarah)\",\n",
    "    \"NNPS\":\t\"proper noun, plural (indians or americans)\",\n",
    "    \"PDT\":\t\"predeterminer (all, both, half)\",\n",
    "    \"POS\":\t\"possessive ending (parent's)\",\n",
    "    \"PRP\":\t\"personal pronoun (hers, herself, him, himself)\",\n",
    "    \"PRP\":\t\"possessive pronoun (her, his, mine, my, our )\",\n",
    "    \"RB\":\t\"adverb (occasionally, swiftly)\",\n",
    "    \"RBR\":\t\"adverb, comparative (greater)\",\n",
    "    \"RBS\":\t\"adverb, superlative (biggest)\",\n",
    "    \"RP\":\t\"particle (about)\",\n",
    "    \"TO\":\t\"infinite marker (to)\",\n",
    "    \"UH\":\t\"interjection (goodbye)\",\n",
    "    \"VB\":\t\"verb (ask)\",\n",
    "    \"VBG\":\t\"verb gerund (judging)\",\n",
    "    \"VBD\":\t\"verb past tense (pleaded)\",\n",
    "    \"VBN\":\t\"verb past participle (reunified)\",\n",
    "    \"VBP\":\t\"verb, present tense not 3rd person singular(wrap)\",\n",
    "    \"VBZ\":\t\"verb, present tense with 3rd person singular (bases)\",\n",
    "    \"WDT\":\t\"wh-determiner (that, what)\",\n",
    "    \"WP\":\t\"wh- pronoun (who)\",\n",
    "    \"WRB\":\t\"wh- adverb (how)\",\n",
    "}"
   ]
  },
  {
   "cell_type": "code",
   "execution_count": 11,
   "metadata": {},
   "outputs": [
    {
     "name": "stdout",
     "output_type": "stream",
     "text": [
      "['\\nOutra maneira de generalizar a partir de um conjunto de exemplos seria construir um\\nmodelo desses exemplos e utilizar esse modelo para fazer previsões.', 'Isso é chamado de\\naprendizado baseado em modelo (Figura 1-16).']\n",
      "[['Outra', 'maneira', 'de', 'generalizar', 'a', 'partir', 'de', 'um', 'conjunto', 'de', 'exemplos', 'seria', 'construir', 'um', 'modelo', 'desses', 'exemplos', 'e', 'utilizar', 'esse', 'modelo', 'para', 'fazer', 'previsões', '.'], ['Isso', 'é', 'chamado', 'de', 'aprendizado', 'baseado', 'em', 'modelo', '(', 'Figura', '1-16', ')', '.']]\n",
      "[[('Outra', 'NNP'), ('maneira', 'NN'), ('de', 'FW'), ('generalizar', 'FW'), ('a', 'DT'), ('partir', 'NN'), ('de', 'IN'), ('um', 'JJ'), ('conjunto', 'NN'), ('de', 'IN'), ('exemplos', 'FW'), ('seria', 'NNS'), ('construir', 'VBP'), ('um', 'JJ'), ('modelo', 'NN'), ('desses', 'VBZ'), ('exemplos', 'JJ'), ('e', 'NN'), ('utilizar', 'JJ'), ('esse', 'NN'), ('modelo', 'NN'), ('para', 'NN'), ('fazer', 'NN'), ('previsões', 'NN'), ('.', '.')], [('Isso', 'NNP'), ('é', 'NNP'), ('chamado', 'NN'), ('de', 'FW'), ('aprendizado', 'FW'), ('baseado', 'FW'), ('em', 'FW'), ('modelo', 'FW'), ('(', '('), ('Figura', 'NNP'), ('1-16', 'CD'), (')', ')'), ('.', '.')]]\n"
     ]
    },
    {
     "name": "stderr",
     "output_type": "stream",
     "text": [
      "[nltk_data] Downloading package punkt to /home/breno/nltk_data...\n",
      "[nltk_data]   Package punkt is already up-to-date!\n",
      "[nltk_data] Downloading package averaged_perceptron_tagger to\n",
      "[nltk_data]     /home/breno/nltk_data...\n",
      "[nltk_data]   Package averaged_perceptron_tagger is already up-to-\n",
      "[nltk_data]       date!\n"
     ]
    }
   ],
   "source": [
    "import nltk    \n",
    "from nltk import tokenize    \n",
    "\n",
    "nltk.download('punkt')\n",
    "nltk.download('averaged_perceptron_tagger')\n",
    "\n",
    "text = \"\"\"\n",
    "Outra maneira de generalizar a partir de um conjunto de exemplos seria construir um modelo desses exemplos e utilizar esse modelo para fazer previsões. Isso é chamado de aprendizado baseado em modelo (Figura 1-16).\"\"\"\n",
    "\n",
    "def preprocess_text(text):\n",
    "     sentence = nltk.sent_tokenize(text)\n",
    "     print(sentence)\n",
    "     sentence = [nltk.word_tokenize(s) for s in sentence]\n",
    "     print(sentence)\n",
    "     sentence = [nltk.pos_tag(s) for s in sentence]\n",
    "     print(sentence)\n",
    "\n",
    "tokenized = preprocess_text(text)\n"
   ]
  },
  {
   "cell_type": "code",
   "execution_count": 13,
   "metadata": {},
   "outputs": [
    {
     "data": {
      "text/plain": [
       "[('last', 'JJ'),\n",
       " ('night', 'NN'),\n",
       " ('i', 'NN'),\n",
       " ('saw', 'VBD'),\n",
       " ('a', 'DT'),\n",
       " ('black', 'JJ'),\n",
       " ('dog', 'NN'),\n",
       " ('barking', 'NN'),\n",
       " ('at', 'IN'),\n",
       " ('a', 'DT'),\n",
       " ('kid', 'NN')]"
      ]
     },
     "execution_count": 13,
     "metadata": {},
     "output_type": "execute_result"
    }
   ],
   "source": [
    "gram = (\"NP: {<DT>?<JJ>*<NN>}\")\n",
    "\n",
    "sent = \"last night i saw a black dog barking at a kid\"\n",
    "\n",
    "\n",
    "chunking = nltk.RegexpParser(gram)\n",
    "sent_token = nltk.word_tokenize(sent)\n",
    "tagging = nltk.pos_tag(sent_token)\n",
    "tagging"
   ]
  },
  {
   "cell_type": "code",
   "execution_count": 15,
   "metadata": {},
   "outputs": [
    {
     "data": {
      "image/svg+xml": [
       "<svg baseProfile=\"full\" height=\"168px\" preserveAspectRatio=\"xMidYMid meet\" style=\"font-family: times, serif; font-weight: normal; font-style: normal; font-size: 16px;\" version=\"1.1\" viewBox=\"0,0,480.0,168.0\" width=\"480px\" xmlns=\"http://www.w3.org/2000/svg\" xmlns:ev=\"http://www.w3.org/2001/xml-events\" xmlns:xlink=\"http://www.w3.org/1999/xlink\"><defs /><svg width=\"100%\" x=\"0\" y=\"0px\"><defs /><text text-anchor=\"middle\" x=\"50%\" y=\"16px\">S</text></svg><svg width=\"21.6667%\" x=\"0%\" y=\"48px\"><defs /><svg width=\"100%\" x=\"0\" y=\"0px\"><defs /><text text-anchor=\"middle\" x=\"50%\" y=\"16px\">NP</text></svg><svg width=\"46.1538%\" x=\"0%\" y=\"48px\"><defs /><svg width=\"100%\" x=\"0\" y=\"0px\"><defs /><text text-anchor=\"middle\" x=\"50%\" y=\"16px\">last</text></svg><svg width=\"100%\" x=\"0%\" y=\"48px\"><defs /><svg width=\"100%\" x=\"0\" y=\"0px\"><defs /><text text-anchor=\"middle\" x=\"50%\" y=\"16px\">JJ</text></svg></svg><line stroke=\"black\" x1=\"50%\" x2=\"50%\" y1=\"19.2px\" y2=\"48px\" /></svg><line stroke=\"black\" x1=\"50%\" x2=\"23.0769%\" y1=\"19.2px\" y2=\"48px\" /><svg width=\"53.8462%\" x=\"46.1538%\" y=\"48px\"><defs /><svg width=\"100%\" x=\"0\" y=\"0px\"><defs /><text text-anchor=\"middle\" x=\"50%\" y=\"16px\">night</text></svg><svg width=\"100%\" x=\"0%\" y=\"48px\"><defs /><svg width=\"100%\" x=\"0\" y=\"0px\"><defs /><text text-anchor=\"middle\" x=\"50%\" y=\"16px\">NN</text></svg></svg><line stroke=\"black\" x1=\"50%\" x2=\"50%\" y1=\"19.2px\" y2=\"48px\" /></svg><line stroke=\"black\" x1=\"50%\" x2=\"73.0769%\" y1=\"19.2px\" y2=\"48px\" /></svg><line stroke=\"black\" x1=\"50%\" x2=\"10.8333%\" y1=\"19.2px\" y2=\"48px\" /><svg width=\"6.66667%\" x=\"21.6667%\" y=\"48px\"><defs /><svg width=\"100%\" x=\"0\" y=\"0px\"><defs /><text text-anchor=\"middle\" x=\"50%\" y=\"16px\">NP</text></svg><svg width=\"100%\" x=\"0%\" y=\"48px\"><defs /><svg width=\"100%\" x=\"0\" y=\"0px\"><defs /><text text-anchor=\"middle\" x=\"50%\" y=\"16px\">i</text></svg><svg width=\"100%\" x=\"0%\" y=\"48px\"><defs /><svg width=\"100%\" x=\"0\" y=\"0px\"><defs /><text text-anchor=\"middle\" x=\"50%\" y=\"16px\">NN</text></svg></svg><line stroke=\"black\" x1=\"50%\" x2=\"50%\" y1=\"19.2px\" y2=\"48px\" /></svg><line stroke=\"black\" x1=\"50%\" x2=\"50%\" y1=\"19.2px\" y2=\"48px\" /></svg><line stroke=\"black\" x1=\"50%\" x2=\"25%\" y1=\"19.2px\" y2=\"48px\" /><svg width=\"8.33333%\" x=\"28.3333%\" y=\"48px\"><defs /><svg width=\"100%\" x=\"0\" y=\"0px\"><defs /><text text-anchor=\"middle\" x=\"50%\" y=\"16px\">saw</text></svg><svg width=\"100%\" x=\"0%\" y=\"48px\"><defs /><svg width=\"100%\" x=\"0\" y=\"0px\"><defs /><text text-anchor=\"middle\" x=\"50%\" y=\"16px\">VBD</text></svg></svg><line stroke=\"black\" x1=\"50%\" x2=\"50%\" y1=\"19.2px\" y2=\"48px\" /></svg><line stroke=\"black\" x1=\"50%\" x2=\"32.5%\" y1=\"19.2px\" y2=\"48px\" /><svg width=\"26.6667%\" x=\"36.6667%\" y=\"48px\"><defs /><svg width=\"100%\" x=\"0\" y=\"0px\"><defs /><text text-anchor=\"middle\" x=\"50%\" y=\"16px\">NP</text></svg><svg width=\"25%\" x=\"0%\" y=\"48px\"><defs /><svg width=\"100%\" x=\"0\" y=\"0px\"><defs /><text text-anchor=\"middle\" x=\"50%\" y=\"16px\">a</text></svg><svg width=\"100%\" x=\"0%\" y=\"48px\"><defs /><svg width=\"100%\" x=\"0\" y=\"0px\"><defs /><text text-anchor=\"middle\" x=\"50%\" y=\"16px\">DT</text></svg></svg><line stroke=\"black\" x1=\"50%\" x2=\"50%\" y1=\"19.2px\" y2=\"48px\" /></svg><line stroke=\"black\" x1=\"50%\" x2=\"12.5%\" y1=\"19.2px\" y2=\"48px\" /><svg width=\"43.75%\" x=\"25%\" y=\"48px\"><defs /><svg width=\"100%\" x=\"0\" y=\"0px\"><defs /><text text-anchor=\"middle\" x=\"50%\" y=\"16px\">black</text></svg><svg width=\"100%\" x=\"0%\" y=\"48px\"><defs /><svg width=\"100%\" x=\"0\" y=\"0px\"><defs /><text text-anchor=\"middle\" x=\"50%\" y=\"16px\">JJ</text></svg></svg><line stroke=\"black\" x1=\"50%\" x2=\"50%\" y1=\"19.2px\" y2=\"48px\" /></svg><line stroke=\"black\" x1=\"50%\" x2=\"46.875%\" y1=\"19.2px\" y2=\"48px\" /><svg width=\"31.25%\" x=\"68.75%\" y=\"48px\"><defs /><svg width=\"100%\" x=\"0\" y=\"0px\"><defs /><text text-anchor=\"middle\" x=\"50%\" y=\"16px\">dog</text></svg><svg width=\"100%\" x=\"0%\" y=\"48px\"><defs /><svg width=\"100%\" x=\"0\" y=\"0px\"><defs /><text text-anchor=\"middle\" x=\"50%\" y=\"16px\">NN</text></svg></svg><line stroke=\"black\" x1=\"50%\" x2=\"50%\" y1=\"19.2px\" y2=\"48px\" /></svg><line stroke=\"black\" x1=\"50%\" x2=\"84.375%\" y1=\"19.2px\" y2=\"48px\" /></svg><line stroke=\"black\" x1=\"50%\" x2=\"50%\" y1=\"19.2px\" y2=\"48px\" /><svg width=\"15%\" x=\"63.3333%\" y=\"48px\"><defs /><svg width=\"100%\" x=\"0\" y=\"0px\"><defs /><text text-anchor=\"middle\" x=\"50%\" y=\"16px\">NP</text></svg><svg width=\"100%\" x=\"0%\" y=\"48px\"><defs /><svg width=\"100%\" x=\"0\" y=\"0px\"><defs /><text text-anchor=\"middle\" x=\"50%\" y=\"16px\">barking</text></svg><svg width=\"100%\" x=\"0%\" y=\"48px\"><defs /><svg width=\"100%\" x=\"0\" y=\"0px\"><defs /><text text-anchor=\"middle\" x=\"50%\" y=\"16px\">NN</text></svg></svg><line stroke=\"black\" x1=\"50%\" x2=\"50%\" y1=\"19.2px\" y2=\"48px\" /></svg><line stroke=\"black\" x1=\"50%\" x2=\"50%\" y1=\"19.2px\" y2=\"48px\" /></svg><line stroke=\"black\" x1=\"50%\" x2=\"70.8333%\" y1=\"19.2px\" y2=\"48px\" /><svg width=\"6.66667%\" x=\"78.3333%\" y=\"48px\"><defs /><svg width=\"100%\" x=\"0\" y=\"0px\"><defs /><text text-anchor=\"middle\" x=\"50%\" y=\"16px\">at</text></svg><svg width=\"100%\" x=\"0%\" y=\"48px\"><defs /><svg width=\"100%\" x=\"0\" y=\"0px\"><defs /><text text-anchor=\"middle\" x=\"50%\" y=\"16px\">IN</text></svg></svg><line stroke=\"black\" x1=\"50%\" x2=\"50%\" y1=\"19.2px\" y2=\"48px\" /></svg><line stroke=\"black\" x1=\"50%\" x2=\"81.6667%\" y1=\"19.2px\" y2=\"48px\" /><svg width=\"15%\" x=\"85%\" y=\"48px\"><defs /><svg width=\"100%\" x=\"0\" y=\"0px\"><defs /><text text-anchor=\"middle\" x=\"50%\" y=\"16px\">NP</text></svg><svg width=\"44.4444%\" x=\"0%\" y=\"48px\"><defs /><svg width=\"100%\" x=\"0\" y=\"0px\"><defs /><text text-anchor=\"middle\" x=\"50%\" y=\"16px\">a</text></svg><svg width=\"100%\" x=\"0%\" y=\"48px\"><defs /><svg width=\"100%\" x=\"0\" y=\"0px\"><defs /><text text-anchor=\"middle\" x=\"50%\" y=\"16px\">DT</text></svg></svg><line stroke=\"black\" x1=\"50%\" x2=\"50%\" y1=\"19.2px\" y2=\"48px\" /></svg><line stroke=\"black\" x1=\"50%\" x2=\"22.2222%\" y1=\"19.2px\" y2=\"48px\" /><svg width=\"55.5556%\" x=\"44.4444%\" y=\"48px\"><defs /><svg width=\"100%\" x=\"0\" y=\"0px\"><defs /><text text-anchor=\"middle\" x=\"50%\" y=\"16px\">kid</text></svg><svg width=\"100%\" x=\"0%\" y=\"48px\"><defs /><svg width=\"100%\" x=\"0\" y=\"0px\"><defs /><text text-anchor=\"middle\" x=\"50%\" y=\"16px\">NN</text></svg></svg><line stroke=\"black\" x1=\"50%\" x2=\"50%\" y1=\"19.2px\" y2=\"48px\" /></svg><line stroke=\"black\" x1=\"50%\" x2=\"72.2222%\" y1=\"19.2px\" y2=\"48px\" /></svg><line stroke=\"black\" x1=\"50%\" x2=\"92.5%\" y1=\"19.2px\" y2=\"48px\" /></svg>"
      ],
      "text/plain": [
       "Tree('S', [Tree('NP', [('last', 'JJ'), ('night', 'NN')]), Tree('NP', [('i', 'NN')]), ('saw', 'VBD'), Tree('NP', [('a', 'DT'), ('black', 'JJ'), ('dog', 'NN')]), Tree('NP', [('barking', 'NN')]), ('at', 'IN'), Tree('NP', [('a', 'DT'), ('kid', 'NN')])])"
      ]
     },
     "execution_count": 15,
     "metadata": {},
     "output_type": "execute_result"
    }
   ],
   "source": [
    "tree = chunking.parse(tagging)\n",
    "tree"
   ]
  },
  {
   "cell_type": "code",
   "execution_count": 12,
   "metadata": {},
   "outputs": [
    {
     "data": {
      "text/plain": [
       "[('Outra', 'NNP'),\n",
       " ('maneira', 'NN'),\n",
       " ('de', 'FW'),\n",
       " ('generalizar', 'FW'),\n",
       " ('a', 'DT'),\n",
       " ('partir', 'NN'),\n",
       " ('de', 'IN'),\n",
       " ('um', 'JJ'),\n",
       " ('conjunto', 'NN'),\n",
       " ('de', 'IN'),\n",
       " ('exemplos', 'FW'),\n",
       " ('seria', 'NNS'),\n",
       " ('construir', 'VBP'),\n",
       " ('um', 'JJ'),\n",
       " ('modelo', 'NN'),\n",
       " ('desses', 'VBZ'),\n",
       " ('exemplos', 'JJ'),\n",
       " ('e', 'NN'),\n",
       " ('utilizar', 'JJ'),\n",
       " ('esse', 'NN'),\n",
       " ('modelo', 'NN'),\n",
       " ('para', 'NN'),\n",
       " ('fazer', 'NN'),\n",
       " ('previsões', 'NN'),\n",
       " ('.', '.'),\n",
       " ('Isso', 'NNP'),\n",
       " ('é', 'NNP'),\n",
       " ('chamado', 'NN'),\n",
       " ('de', 'FW'),\n",
       " ('aprendizado', 'FW'),\n",
       " ('baseado', 'FW'),\n",
       " ('em', 'FW'),\n",
       " ('modelo', 'FW'),\n",
       " ('(', '('),\n",
       " ('Figura', 'NNP'),\n",
       " ('1-16', 'CD'),\n",
       " (')', ')'),\n",
       " ('.', '.')]"
      ]
     },
     "execution_count": 12,
     "metadata": {},
     "output_type": "execute_result"
    }
   ],
   "source": [
    "tagged_words = nltk.pos_tag(words)\n",
    "\n",
    "word_tags = []\n",
    "\n",
    "for tw in tagged_words:\n",
    "    word_tags.append(tw[0] + \"_\" + tw[1])\n",
    "                     \n",
    "tagged_paragraph = ' '.join(word_tags)\n",
    "\n",
    "# print(words[:5])\n",
    "# print(tagged_words[:5])\n",
    "\n",
    "tagged_words"
   ]
  },
  {
   "cell_type": "code",
   "execution_count": null,
   "metadata": {},
   "outputs": [],
   "source": []
  }
 ],
 "metadata": {
  "kernelspec": {
   "display_name": "Python 3",
   "language": "python",
   "name": "python3"
  },
  "language_info": {
   "codemirror_mode": {
    "name": "ipython",
    "version": 3
   },
   "file_extension": ".py",
   "mimetype": "text/x-python",
   "name": "python",
   "nbconvert_exporter": "python",
   "pygments_lexer": "ipython3",
   "version": "3.10.12"
  }
 },
 "nbformat": 4,
 "nbformat_minor": 2
}
